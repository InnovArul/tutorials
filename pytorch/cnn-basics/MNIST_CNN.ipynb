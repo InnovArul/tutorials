{
 "cells": [
  {
   "cell_type": "markdown",
   "metadata": {},
   "source": [
    "# MNIST Handwritten digits classification"
   ]
  },
  {
   "cell_type": "markdown",
   "metadata": {},
   "source": [
    "![l](./pics/mnist.png)"
   ]
  },
  {
   "cell_type": "code",
   "execution_count": null,
   "metadata": {},
   "outputs": [],
   "source": [
    "#-------- For obtaining the plots in the notebook -----#\n",
    "from matplotlib import pyplot as plt\n",
    "%matplotlib inline\n",
    "\n",
    "# torch module spefic to com puter vision\n",
    "from torchvision import datasets,transforms"
   ]
  },
  {
   "cell_type": "code",
   "execution_count": 9,
   "metadata": {},
   "outputs": [],
   "source": [
    "#---------- Basic setup ------- #\n",
    "DATASET_DIRECTORY = './mnist/'\n",
    "SAVE_DIRECTORY    = './models/'\n"
   ]
  },
  {
   "cell_type": "markdown",
   "metadata": {},
   "source": [
    "# Data"
   ]
  },
  {
   "cell_type": "code",
   "execution_count": 10,
   "metadata": {},
   "outputs": [
    {
     "name": "stdout",
     "output_type": "stream",
     "text": [
      "Downloading http://yann.lecun.com/exdb/mnist/train-images-idx3-ubyte.gz\n",
      "Downloading http://yann.lecun.com/exdb/mnist/train-labels-idx1-ubyte.gz\n",
      "Downloading http://yann.lecun.com/exdb/mnist/t10k-images-idx3-ubyte.gz\n",
      "Downloading http://yann.lecun.com/exdb/mnist/t10k-labels-idx1-ubyte.gz\n",
      "Processing...\n",
      "Done!\n"
     ]
    }
   ],
   "source": [
    "#------- Download training data, and set transformations to be applied -----#\n",
    "mnist_train = datasets.MNIST(DATASET_DIRECTORY,\n",
    "                             train=True,\n",
    "                             transform=transforms.ToTensor(),\n",
    "                             target_transform=None,\n",
    "                             download=True)\n",
    "\n",
    "mnist_test  = datasets.MNIST(DATASET_DIRECTORY,\n",
    "                             train=False,\n",
    "                             transform=transforms.ToTensor(),\n",
    "                             target_transform = None,\n",
    "                             download = True)"
   ]
  },
  {
   "cell_type": "code",
   "execution_count": 31,
   "metadata": {},
   "outputs": [
    {
     "name": "stdout",
     "output_type": "stream",
     "text": [
      "Training dataset dimensions\n",
      "torch.Size([60000, 28, 28])\n",
      "Test dataset dimensions\n",
      "torch.Size([10000, 28, 28])\n"
     ]
    }
   ],
   "source": [
    "# ---- Dimensions of dataset ---- # \n",
    "# ---- Training dataset ---- #\n",
    "print(\"Training dataset dimensions\")\n",
    "print(mnist_train.train_data.size())\n",
    "\n",
    "# ---- Test dataset ---- #\n",
    "print(\"Test dataset dimensions\")\n",
    "print(mnist_test.test_data.size())"
   ]
  },
  {
   "cell_type": "code",
   "execution_count": 14,
   "metadata": {},
   "outputs": [
    {
     "data": {
      "text/plain": [
       "<matplotlib.image.AxesImage at 0x7f99aac979e8>"
      ]
     },
     "execution_count": 14,
     "metadata": {},
     "output_type": "execute_result"
    },
    {
     "data": {
      "image/png": "[encoded data removed]",
      "text/plain": [
       "<matplotlib.figure.Figure at 0x7f9a62723588>"
      ]
     },
     "metadata": {},
     "output_type": "display_data"
    }
   ],
   "source": [
    "# --- Dislay some random image --- #\n",
    "imgindex = 100\n",
    "plt.imshow(mnist_test.test_data[imgindex].numpy(),cmap='gray')"
   ]
  },
  {
   "cell_type": "markdown",
   "metadata": {},
   "source": [
    "# Simple network\n",
    "\n",
    "![mnistnet](./pics/MNIST_CNN.png)"
   ]
  },
  {
   "cell_type": "code",
   "execution_count": 20,
   "metadata": {},
   "outputs": [
    {
     "name": "stdout",
     "output_type": "stream",
     "text": [
      "Model (\n",
      "  (conv1): Conv2d(1, 6, kernel_size=(5, 5), stride=(1, 1))\n",
      "  (mp1): MaxPool2d (size=(2, 2), stride=(2, 2), dilation=(1, 1))\n",
      "  (conv2): Conv2d(6, 16, kernel_size=(5, 5), stride=(1, 1))\n",
      "  (mp2): MaxPool2d (size=(2, 2), stride=(2, 2), dilation=(1, 1))\n",
      "  (fc1): Linear (256 -> 120)\n",
      "  (fc2): Linear (120 -> 84)\n",
      "  (fc3): Linear (84 -> 10)\n",
      ")\n"
     ]
    }
   ],
   "source": [
    "# ---- Build the architecture --- #\n",
    "\n",
    "import torch.nn as nn\n",
    "import torch.optim as optim\n",
    "from torch.autograd import Variable\n",
    "import torch.nn.functional as F\n",
    "\n",
    "\n",
    "class Model(nn.Module):\n",
    "    \n",
    "    def __init__(self):\n",
    "        \n",
    "        super(Model,self).__init__()\n",
    "        \n",
    "        #--- The blocks are defined here ---#\n",
    "        self.conv1 = nn.Conv2d(in_channels=1,out_channels=6,kernel_size=5,stride=1,padding=0)\n",
    "        self.mp1   = nn.MaxPool2d(kernel_size=2,stride=2)\n",
    "        self.conv2 = nn.Conv2d(in_channels=6,out_channels=16,kernel_size=5,stride=1,padding=0)\n",
    "        self.mp2   = nn.MaxPool2d(kernel_size=2,stride=2)\n",
    "\n",
    "        self.fc1   = nn.Linear(in_features=256,out_features=120)\n",
    "        self.fc2   = nn.Linear(in_features=120,out_features=84)\n",
    "        self.fc3  = nn.Linear(in_features=84,out_features=10)\n",
    "  \n",
    "        \n",
    "    #--- Forward propagation ---#\n",
    "    def forward(self,x):\n",
    "        \n",
    "        x = self.conv1(x)\n",
    "        x = self.mp1(x)\n",
    "        x = F.relu(x)\n",
    "        \n",
    "        x = self.conv2(x)\n",
    "        x = self.mp2(x)\n",
    "        x = F.relu(x)\n",
    "        \n",
    "        x = x.view(-1,256)\n",
    "        x = self.fc1(x)\n",
    "        x = F.relu(x)\n",
    "        \n",
    "        x = self.fc2(x)\n",
    "        x = F.relu(x)\n",
    "        \n",
    "        x = self.fc3(x)\n",
    "        x = F.softmax(x)\n",
    "\n",
    "        return x\n",
    "    \n",
    "model = Model()\n",
    "\n",
    "if USE_CUDA:\n",
    "    model = model.cuda()\n",
    "\n",
    "print(model)"
   ]
  },
  {
   "cell_type": "markdown",
   "metadata": {},
   "source": [
    "#### Forward Pass"
   ]
  },
  {
   "cell_type": "code",
   "execution_count": 34,
   "metadata": {},
   "outputs": [
    {
     "name": "stdout",
     "output_type": "stream",
     "text": [
      "Variable containing:\n",
      "\n",
      "Columns 0 to 5 \n",
      " 7.2042e-04  5.2868e-06  1.9558e-05  3.1077e-01  2.3788e-10  1.5756e-01\n",
      "\n",
      "Columns 6 to 9 \n",
      " 7.9860e-08  2.8216e-03  5.2734e-01  7.6072e-04\n",
      "[torch.FloatTensor of size 1x10]\n",
      "\n"
     ]
    }
   ],
   "source": [
    "input = Variable(torch.randn(1, 1, 28, 28))\n",
    "out = model(input)\n",
    "print(out)"
   ]
  },
  {
   "cell_type": "markdown",
   "metadata": {},
   "source": [
    "#### Backward Pass"
   ]
  },
  {
   "cell_type": "code",
   "execution_count": 35,
   "metadata": {},
   "outputs": [],
   "source": [
    "model.zero_grad()\n",
    "out.backward(torch.randn(1, 10))"
   ]
  },
  {
   "cell_type": "markdown",
   "metadata": {},
   "source": [
    "# Loss Function\n",
    "In this example, we will use Classification Cross-Entropy loss and SGD with momentum.<br>\n",
    "Cross Entropy loss is given as:- $L=-\\sum_i y_i \\log(p_i)$ and $p_i=\\frac{\\exp^{x_i}}{\\sum_k \\exp^{x_k}}$\n",
    "\n",
    "There are many other loss functions such as MSELoss, L1Loss etc. Visit [here](http://pytorch.org/docs/master/nn.html#loss-functions) for other loss functions.\n",
    "\n",
    "#### Stochastic Gradient Descent (SGD)\n",
    "$$w_{n+1} = w_{n} - \\eta \\triangle$$\n",
    "$$\\triangle = 0.9\\triangle + \\frac{\\partial L}{\\partial w}$$\n",
    "\n",
    "Although SGD is the most popular and basic optimizer that one should first try. There are many adaptive optimizers like Adagrad,Adadelta RMSProp and many more. Visit [here](http://pytorch.org/docs/master/optim.html) for other examples."
   ]
  },
  {
   "cell_type": "code",
   "execution_count": 37,
   "metadata": {},
   "outputs": [],
   "source": [
    "# ---- Settings for training ---- #\n",
    "criterion = nn.CrossEntropyLoss()\n",
    "optimizer = optim.SGD(model.parameters(), lr=0.001, momentum=0.9)"
   ]
  },
  {
   "cell_type": "markdown",
   "metadata": {},
   "source": [
    "## Mini Batch training"
   ]
  },
  {
   "cell_type": "code",
   "execution_count": 38,
   "metadata": {},
   "outputs": [
    {
     "name": "stdout",
     "output_type": "stream",
     "text": [
      "Train data :  469  batches of 128 samples each\n",
      "Test data :  79  batches of 128 samples each\n"
     ]
    }
   ],
   "source": [
    "# ----- Dataloades getting datasets ready for the network ---- #\n",
    "BATCH_SIZE    = 128\n",
    "train_loader = torch.utils.data.DataLoader(dataset=mnist_train,batch_size=BATCH_SIZE,shuffle=True)\n",
    "test_loader  = torch.utils.data.DataLoader(dataset=mnist_test,batch_size=BATCH_SIZE,shuffle=True)\n",
    "\n",
    "# ---- Knowing about how data is stored in the loader ---- #\n",
    "no_of_batches_train = len(train_loader)\n",
    "no_of_batches_test  = len(test_loader)\n",
    "print(\"Train data : \", no_of_batches_train, \" batches of 128 samples each\")\n",
    "print(\"Test data : \",no_of_batches_test, \" batches of 128 samples each\")"
   ]
  },
  {
   "cell_type": "code",
   "execution_count": 39,
   "metadata": {},
   "outputs": [
    {
     "name": "stderr",
     "output_type": "stream",
     "text": [
      "100%|██████████| 25/25 [08:47<00:00, 21.11s/it]\n"
     ]
    }
   ],
   "source": [
    "# --- Training procedure ---- #\n",
    "\n",
    "from tqdm import tqdm\n",
    "\n",
    "running_loss = 0\n",
    "\n",
    "# --- Iterate over epoch ---- #\n",
    "for epoch in tqdm(range(EPOCH)):\n",
    "    \n",
    "    # ---- Iterate over each batch --- # \n",
    "    for iter_,data in enumerate(train_loader):\n",
    "        inputs,labels = data\n",
    "        \n",
    "        # --- If CUDA is available move the tensor to GPU --- #\n",
    "        if USE_CUDA:\n",
    "            inputs,labels = inputs.cuda(),labels.cuda()            \n",
    "        \n",
    "        # --- To perform back propagation the tensors should be placed in Variable --- #\n",
    "        inputs,labels = Variable(inputs),Variable(labels)\n",
    "        \n",
    "        # --- Setting the obtained gradients to zero --- #\n",
    "        optimizer.zero_grad()\n",
    "        \n",
    "        # --- Forward propagation --- #\n",
    "        outputs = model(inputs)\n",
    "        \n",
    "        # --- Backward propagation and optimization --- #\n",
    "        # --- Finding the error --- # \n",
    "        loss = criterion(outputs,labels)\n",
    "        running_loss += loss.data[0]\n",
    "        \n",
    "        #--- Backward propogate ---#\n",
    "        loss.backward()\n",
    "        optimizer.step()\n",
    "    "
   ]
  },
  {
   "cell_type": "code",
   "execution_count": 28,
   "metadata": {},
   "outputs": [
    {
     "name": "stdout",
     "output_type": "stream",
     "text": [
      "FC1 ---> Weights :  torch.Size([6, 1, 5, 5])\n",
      "FC1 ---> Bias    :  torch.Size([6])\n",
      "FC2 ---> Weights :  torch.Size([16, 6, 5, 5])\n",
      "FC2 ---> Bias    :  torch.Size([16])\n",
      "FC3 ---> Weights :  torch.Size([120, 256])\n",
      "FC3 ---> Bias    :  torch.Size([120])\n"
     ]
    }
   ],
   "source": [
    "#--- Parameter dimensions ---#\n",
    "#--- This includes bias and weights ---#\n",
    "\n",
    "params = list(model.parameters())\n",
    "\n",
    "print(\"FC1 ---> Weights : \",params[0].size())\n",
    "print(\"FC1 ---> Bias    : \",params[1].size())\n",
    "\n",
    "print(\"FC2 ---> Weights : \",params[2].size())\n",
    "print(\"FC2 ---> Bias    : \",params[3].size())\n",
    "\n",
    "print(\"FC3 ---> Weights : \",params[4].size())\n",
    "print(\"FC3 ---> Bias    : \",params[5].size())\n"
   ]
  },
  {
   "cell_type": "code",
   "execution_count": 29,
   "metadata": {},
   "outputs": [
    {
     "name": "stdout",
     "output_type": "stream",
     "text": [
      "10000\n",
      "Accuracy of the network on the 10000 test images: 81 %\n"
     ]
    }
   ],
   "source": [
    "correct = 0\n",
    "total = 0\n",
    "\n",
    "for data in test_loader:\n",
    "    images, labels = data\n",
    "    outputs = model(Variable(images))\n",
    "    _, predicted = torch.max(outputs.data, 1)\n",
    "    total += labels.size(0)\n",
    "    labels = labels\n",
    "    correct += (predicted == labels).sum()\n",
    "    \n",
    "print(total)\n",
    "print('Accuracy of the network on the 10000 test images: %d %%' % (\n",
    "    100 * correct / total))"
   ]
  },
  {
   "cell_type": "code",
   "execution_count": null,
   "metadata": {
    "collapsed": true
   },
   "outputs": [],
   "source": []
  }
 ],
 "metadata": {
  "kernelspec": {
   "display_name": "Python 3",
   "language": "python",
   "name": "python3"
  },
  "language_info": {
   "codemirror_mode": {
    "name": "ipython",
    "version": 3
   },
   "file_extension": ".py",
   "mimetype": "text/x-python",
   "name": "python",
   "nbconvert_exporter": "python",
   "pygments_lexer": "ipython3",
   "version": "3.6.2"
  }
 },
 "nbformat": 4,
 "nbformat_minor": 1
}
